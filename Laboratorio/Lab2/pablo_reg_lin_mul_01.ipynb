{
  "cells": [
    {
      "cell_type": "markdown",
      "metadata": {
        "id": "tfwOfkjclHQx"
      },
      "source": [
        "# Ejercicio de programación Regresión Lineal Multiple"
      ]
    },
    {
      "cell_type": "code",
      "execution_count": 37,
      "metadata": {
        "id": "f0WGMMljlHQz"
      },
      "outputs": [],
      "source": [
        "# utilizado para manejos de directorios y rutas\n",
        "import os\n",
        "\n",
        "# Computacion vectorial y cientifica para python\n",
        "import numpy as np\n",
        "\n",
        "# Librerias para graficación (trazado de gráficos)\n",
        "from matplotlib import pyplot\n",
        "from mpl_toolkits.mplot3d import Axes3D  # Necesario para graficar superficies 3D\n",
        "\n",
        "# llama a matplotlib a embeber graficas dentro de los cuadernillos\n",
        "%matplotlib inline"
      ]
    },
    {
      "cell_type": "code",
      "source": [
        "from google.colab import drive\n",
        "drive.mount(\"/content/gdrive\")"
      ],
      "metadata": {
        "id": "LhERtghFlVGr",
        "colab": {
          "base_uri": "https://localhost:8080/"
        },
        "outputId": "7cf05c4e-8ce6-4b81-8137-d84a3984c4ea"
      },
      "execution_count": 38,
      "outputs": [
        {
          "output_type": "stream",
          "name": "stdout",
          "text": [
            "Drive already mounted at /content/gdrive; to attempt to forcibly remount, call drive.mount(\"/content/gdrive\", force_remount=True).\n"
          ]
        }
      ]
    },
    {
      "cell_type": "markdown",
      "source": [
        "Del data set usaremos 10 columnas para la regresion, el resto las eliminaremos como también eliminaremos la fila 1\n",
        "Selecionaremos los valores para x como para y\n",
        "Obtendremos la cantidad de ejemplos imprimir X, y, y m para verificar, Imprimir algunos puntos de datos"
      ],
      "metadata": {
        "id": "CbZbSqoWI0iT"
      }
    },
    {
      "cell_type": "code",
      "execution_count": 39,
      "metadata": {
        "id": "6BP5grkxlHQ0",
        "colab": {
          "base_uri": "https://localhost:8080/"
        },
        "outputId": "4006b196-94e7-4d76-e0eb-39ae9060d460"
      },
      "outputs": [
        {
          "output_type": "stream",
          "name": "stdout",
          "text": [
            "La cantidad de columnas restantes es: 10\n",
            "16115\n",
            "  X[:,0] X[:, 1]         y\n",
            "--------------------------\n",
            "    1985  870000        47\n",
            "    1985  550000       134\n",
            "    1985  633333        49\n",
            "    1985  150000        41\n",
            "    1985  483333        37\n",
            "    1985  772000        66\n",
            "    1985  407500       107\n",
            "    1985  275000        28\n",
            "    1985  450000        57\n",
            "    1985 1354167        52\n",
            "    1985  625000       135\n",
            "    1985  437500        93\n",
            "    1985  641667        42\n",
            "    1985  560000        68\n",
            "    1985  440000        47\n",
            "    1985  547143        86\n",
            "    1985  581250        77\n",
            "    1985  115000        64\n",
            "    1985  177500       154\n",
            "    1985  580000        55\n"
          ]
        }
      ],
      "source": [
        "# Cargar datos\n",
        "#Cargar desde la carpeta\n",
        "#data = np.genfromtxt('Ptichers_Adjusted_Salary.csv', delimiter=',')\n",
        "data = np.genfromtxt('/content/gdrive/Othercomputers/Mi portátil/6to Semetre Original/IA/labs/lab2/Ptichers_Adjusted_Salary.csv', delimiter=',')\n",
        "\n",
        "data_sin_primera_fila = np.delete(data, 0, axis=0)\n",
        "\n",
        "# Lista de columnas a eliminar (ajustada para mantener las columnas relevantes)\n",
        "columnas_a_eliminar = [0, 2, 4, 7, 9, 10, 11, 13, 14, 15, 16, 17, 18, 21, 23, 25, 26, 27, 28, 29, 30, 31, 32, 33, 34, 35, 36]\n",
        "\n",
        "data = np.delete(data_sin_primera_fila, columnas_a_eliminar, axis=1)\n",
        "\n",
        "# Verificar la cantidad de columnas restantes\n",
        "cantidad_columnas = data.shape[1]\n",
        "print(f\"La cantidad de columnas restantes es: {cantidad_columnas}\")\n",
        "\n",
        "# Asegurarse de que X tenga 9 columnas y y tenga 1 columna\n",
        "X = data[:, :-1]  # Selecciona todas menos la última columna (ERA)\n",
        "y = data[:, -1]   # Selecciona la última columna (ERA) como variable dependiente\n",
        "\n",
        "# Obtener la cantidad de ejemplos\n",
        "m = y.size\n",
        "print(m)\n",
        "# imprimir algunos puntos de datos\n",
        "print('{:>8s}{:>8s}{:>10s}'.format('X[:,0]', 'X[:, 1]', 'y'))\n",
        "print('-'*26)\n",
        "for i in range(20):\n",
        "    print('{:8.0f}{:8.0f}{:10.0f}'.format(X[i, 0], X[i, 1], y[i]))"
      ]
    },
    {
      "cell_type": "markdown",
      "source": [
        "creamos una copia del conjunto de datos original para no modificar los datos originale, Inicializa un array de ceros para las medias (mu) de cada columna, Inicializa un array de ceros para las desviaciones estándar (sigma) de cada columna, Calcula la media de cada columna (característica) en el conjunto de datos, Calcula la desviación estándar de cada columna (característica) en el conjunto de datos, Normaliza cada característica restando la media y dividiendo por la desviación estándar, Devuelve el conjunto de datos normalizado, las medias y las desviaciones estándar\n",
        "     "
      ],
      "metadata": {
        "id": "Lt5ieNlLJMo1"
      }
    },
    {
      "cell_type": "code",
      "execution_count": 40,
      "metadata": {
        "id": "7xFD8H3WlHQ1"
      },
      "outputs": [],
      "source": [
        "def  featureNormalize(X):\n",
        "    X_norm = X.copy()\n",
        "    mu = np.zeros(X.shape[1])\n",
        "    sigma = np.zeros(X.shape[1])\n",
        "    mu = np.mean(X, axis = 0)\n",
        "    sigma = np.std(X, axis = 0)\n",
        "    X_norm = (X - mu) / sigma\n",
        "    return X_norm, mu, sigma"
      ]
    },
    {
      "cell_type": "code",
      "execution_count": 41,
      "metadata": {
        "id": "ipL_QsTZlHQ2",
        "colab": {
          "base_uri": "https://localhost:8080/"
        },
        "outputId": "99772dea-ead2-4880-ebc7-4f896c033867"
      },
      "outputs": [
        {
          "output_type": "stream",
          "name": "stdout",
          "text": [
            "[[1.9850000e+03 8.7000000e+05 2.2100000e+02 ... 2.2100000e+02\n",
            "  8.4000000e+01 1.0000000e+01]\n",
            " [1.9850000e+03 5.5000000e+05 6.2000000e+02 ... 6.2000000e+02\n",
            "  1.9800000e+02 1.7000000e+01]\n",
            " [1.9850000e+03 6.3333300e+05 3.8300000e+02 ... 3.8300000e+02\n",
            "  1.3000000e+02 8.0000000e+00]\n",
            " ...\n",
            " [2.0160000e+03 2.2142857e+07 6.8500000e+02 ... 6.8500000e+02\n",
            "  1.6500000e+02 3.1000000e+01]\n",
            " [2.0160000e+03 1.0400000e+07 4.4300000e+02 ... 4.4300000e+02\n",
            "  1.1900000e+02 1.5000000e+01]\n",
            " [2.0160000e+03 5.2490000e+05 2.0100000e+02 ... 2.0100000e+02\n",
            "  5.1000000e+01 5.0000000e+00]]\n",
            "Media calculada: [2.00130897e+03 1.95312092e+06 2.29220726e+02 4.77511635e+00\n",
            " 6.85696556e-01 4.34582687e+00 2.29224201e+02 7.62678250e+01\n",
            " 8.37921191e+00]\n",
            "Desviación estandar calculada: [8.78862921e+00 3.11146493e+06 1.94060879e+02 5.33253510e+00\n",
            " 1.03572707e+00 4.59781617e+00 1.94057105e+02 6.41495258e+01\n",
            " 7.69053815e+00]\n",
            "[[-1.85568948 -0.34810642 -0.04236158 ... -0.04238031  0.12053363\n",
            "   0.21075093]\n",
            " [-1.85568948 -0.45095187  2.01369424 ...  2.01371549  1.89763172\n",
            "   1.12096032]\n",
            " [-1.85568948 -0.42416931  0.792428   ...  0.7924255   0.8376083\n",
            "  -0.04930889]\n",
            " ...\n",
            " [ 1.67159552  6.48882006  2.34864068 ...  2.34866844  1.38320859\n",
            "   2.94137909]\n",
            " [ 1.67159552  2.71475953  1.10160933 ...  1.10161284  0.66613392\n",
            "   0.86090049]\n",
            " [ 1.67159552 -0.45901881 -0.14542203 ... -0.14544276 -0.39388951\n",
            "  -0.43939863]]\n"
          ]
        }
      ],
      "source": [
        "# llama featureNormalize con los datos cargados\n",
        "X_norm, mu, sigma = featureNormalize(X)\n",
        "print(X)\n",
        "print('Media calculada:', mu)\n",
        "print('Desviación estandar calculada:', sigma)\n",
        "print(X_norm)"
      ]
    },
    {
      "cell_type": "markdown",
      "metadata": {
        "id": "it9bMYuLlHQ2"
      },
      "source": [
        "Despues de `featureNormalize` la funcion es provada, se añade el temino de interseccion a `X_norm`:"
      ]
    },
    {
      "cell_type": "code",
      "execution_count": 42,
      "metadata": {
        "id": "nNaGVxgolHQ2"
      },
      "outputs": [],
      "source": [
        "# Añade el termino de interseccion a X\n",
        "X = np.concatenate([np.ones((m, 1)), X_norm], axis=1)"
      ]
    },
    {
      "cell_type": "code",
      "execution_count": 43,
      "metadata": {
        "id": "nbUVohnhlHQ3",
        "colab": {
          "base_uri": "https://localhost:8080/"
        },
        "outputId": "a1f79bf5-91a2-41b9-d29c-734d841f752b"
      },
      "outputs": [
        {
          "output_type": "stream",
          "name": "stdout",
          "text": [
            "[[ 1.         -1.85568948 -0.34810642 ... -0.04238031  0.12053363\n",
            "   0.21075093]\n",
            " [ 1.         -1.85568948 -0.45095187 ...  2.01371549  1.89763172\n",
            "   1.12096032]\n",
            " [ 1.         -1.85568948 -0.42416931 ...  0.7924255   0.8376083\n",
            "  -0.04930889]\n",
            " ...\n",
            " [ 1.          1.67159552  6.48882006 ...  2.34866844  1.38320859\n",
            "   2.94137909]\n",
            " [ 1.          1.67159552  2.71475953 ...  1.10161284  0.66613392\n",
            "   0.86090049]\n",
            " [ 1.          1.67159552 -0.45901881 ... -0.14544276 -0.39388951\n",
            "  -0.43939863]]\n"
          ]
        }
      ],
      "source": [
        "print(X)"
      ]
    },
    {
      "cell_type": "markdown",
      "source": [
        "calcula el costo (o error) de un modelo de regresión lineal multivariable dado un conjunto de datos, los parámetros actuales del modelo (theta), y los valores reales de salida (y), m son los valores de entrenamiento ,J como costo inicia en 0, La fórmula general para la función de costo en la regresión lineal es la que se esta usando en j"
      ],
      "metadata": {
        "id": "bMkckXNCJp9M"
      }
    },
    {
      "cell_type": "code",
      "execution_count": 44,
      "metadata": {
        "id": "EQCMN7KqlHQ3"
      },
      "outputs": [],
      "source": [
        "def computeCostMulti(X, y, theta):\n",
        "    m = y.shape[0]\n",
        "    J = 0\n",
        "    J = (1/(2 * m)) * np.sum(np.square(np.dot(X, theta) - y))\n",
        "    return J"
      ]
    },
    {
      "cell_type": "markdown",
      "source": [
        "descenso por gradiente para un modelo de regresión lineal multivariable (también conocida como regresión lineal múltiple), alpha valor de aprendisaje, num_iters numero de iteraciones, tetha vector de parametro, se crea una copia de tetha para no modificar la original, calcula el erroe entre las predicciones y el valor real, (alpha / m) * (np.dot(X, theta) - y).dot(X): Multiplica el error por la tasa de aprendizaje alpha y por la matriz de características X, escalada por el número de ejemplos m. Este término ajusta theta en la dirección que minimiza el error."
      ],
      "metadata": {
        "id": "KHIfVwY0KHyR"
      }
    },
    {
      "cell_type": "code",
      "execution_count": 45,
      "metadata": {
        "id": "Vdy_aQUklHQ4"
      },
      "outputs": [],
      "source": [
        "def gradientDescentMulti(X, y, theta, alpha, num_iters):\n",
        "    # Inicializa algunos valores\n",
        "    m = y.shape[0] # numero de ejemplos de entrenamiento\n",
        "    theta = theta.copy()\n",
        "    J_history = []\n",
        "    for i in range(num_iters):\n",
        "        theta = theta - (alpha / m) * (np.dot(X, theta) - y).dot(X)\n",
        "        J_history.append(computeCostMulti(X, y, theta))\n",
        "    return theta, J_history"
      ]
    },
    {
      "cell_type": "markdown",
      "metadata": {
        "id": "a8b_GwZslHQ4"
      },
      "source": [
        "#### 3.2.1 Seleccionando coheficientes de aprendizaje\n"
      ]
    },
    {
      "cell_type": "markdown",
      "source": [
        "inicializamos theta con la cantidad de columnas de x, llamamos a gradientedescens, imprimimos el costo y el desenzo de la gradiente, damos valores a X_array y al final calculamos el precio"
      ],
      "metadata": {
        "id": "RPej0sBLKsTi"
      }
    },
    {
      "cell_type": "code",
      "execution_count": 46,
      "metadata": {
        "id": "sId0DiH9lHQ4",
        "colab": {
          "base_uri": "https://localhost:8080/",
          "height": 536
        },
        "outputId": "450c50d9-7657-4de4-da43-0ccf6e0d4b67"
      },
      "outputs": [
        {
          "output_type": "stream",
          "name": "stdout",
          "text": [
            "Costo final después del descenso por gradiente: 174.5684\n",
            "theta calculado por el descenso por el gradiente: [56.0137277   4.3031669   2.05049129 13.6619033  -3.8022018   0.26472173\n",
            " 13.34797711 22.56930064 -0.16046005 -0.20287894]\n",
            "(10,)\n",
            "El precio predecido para una casa de 1650 sq-ft y 3 dormitorios (usando el descenso por el gradiente): $6709\n"
          ]
        },
        {
          "output_type": "display_data",
          "data": {
            "text/plain": [
              "<Figure size 640x480 with 1 Axes>"
            ],
            "image/png": "[encoded data removed]"
          },
          "metadata": {}
        }
      ],
      "source": [
        "# Elegir algun valor para alpha (probar varias alternativas)\n",
        "alpha = 0.001 # alpha = 0.003\n",
        "num_iters = 10000\n",
        "# inicializa theta y ejecuta el descenso por el gradiente\n",
        "theta = np.zeros(10)\n",
        "theta, J_history = gradientDescentMulti(X, y, theta, alpha, num_iters)\n",
        "# Grafica la convergencia del costo\n",
        "pyplot.plot(np.arange(len(J_history)), J_history, lw=2)\n",
        "print('Costo final después del descenso por gradiente: {:.4f}'.format(J_history[-1]))\n",
        "pyplot.xlabel('Numero de iteraciones')\n",
        "pyplot.ylabel('Costo J')\n",
        "# Muestra los resultados del descenso por el gradiente\n",
        "print('theta calculado por el descenso por el gradiente: {:s}'.format(str(theta)))\n",
        "# Estimar el precio para una casa de 1650 sq-ft, con 3 dormitorios\n",
        "X_array = [1, 1650, 3]\n",
        "X_array[2:9] = (X_array[2:9] - mu) / sigma\n",
        "X_array = X_array[:10]\n",
        "print(theta.shape)\n",
        "price = np.dot(X_array, theta)   # Se debe cambiar esto\n",
        "print('El precio predecido para una casa de 1650 sq-ft y 3 dormitorios (usando el descenso por el gradiente): ${:.0f}'.format(price))"
      ]
    }
  ],
  "metadata": {
    "kernelspec": {
      "display_name": "Python 3",
      "language": "python",
      "name": "python3"
    },
    "language_info": {
      "codemirror_mode": {
        "name": "ipython",
        "version": 3
      },
      "file_extension": ".py",
      "mimetype": "text/x-python",
      "name": "python",
      "nbconvert_exporter": "python",
      "pygments_lexer": "ipython3",
      "version": "3.8.5"
    },
    "colab": {
      "provenance": []
    }
  },
  "nbformat": 4,
  "nbformat_minor": 0
}