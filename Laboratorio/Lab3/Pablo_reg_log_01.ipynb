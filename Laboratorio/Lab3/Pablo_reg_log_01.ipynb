{
  "cells": [
    {
      "cell_type": "markdown",
      "metadata": {
        "id": "9L0KhPHmJVNa"
      },
      "source": [
        "# Ejercicion de programación - Regresión Logistica\n",
        "\n",
        "En este ejercicio se implementa regresion logistica y se aplica a dos diferentes datasets."
      ]
    },
    {
      "cell_type": "code",
      "source": [
        "from google.colab import drive\n",
        "drive.mount('/content/drive')"
      ],
      "metadata": {
        "colab": {
          "base_uri": "https://localhost:8080/"
        },
        "id": "z5PQZyiqJhUu",
        "outputId": "934117ef-0db9-4548-e10a-d4ef809b23b9"
      },
      "execution_count": 599,
      "outputs": [
        {
          "output_type": "stream",
          "name": "stdout",
          "text": [
            "Drive already mounted at /content/drive; to attempt to forcibly remount, call drive.mount(\"/content/drive\", force_remount=True).\n"
          ]
        }
      ]
    },
    {
      "cell_type": "code",
      "execution_count": 600,
      "metadata": {
        "id": "Eg6cIE74JVNd"
      },
      "outputs": [],
      "source": [
        "# se utiliza para el manejo de rutas y directorios.\n",
        "import os\n",
        "\n",
        "# Calculo cientifico y vectorial para python\n",
        "import numpy as np\n",
        "\n",
        "# Librerias para graficar\n",
        "import pandas as pd\n",
        "from matplotlib import pyplot\n",
        "\n",
        "# Modulo de optimización de scipy\n",
        "from scipy import optimize\n",
        "\n",
        "# le dice a matplotlib que incruste gráficos en el cuaderno\n",
        "%matplotlib inline\n",
        "\n"
      ]
    },
    {
      "cell_type": "markdown",
      "source": [
        "Tratamiento de la informacion mediante pandas definimos las columnas que nos sirve y la variable y, convirtiendo los valores de la variable \"y\" a binario donde si presenta plaga es cuando \"y>0 \" pero si no presenta plaga \"y<=0\""
      ],
      "metadata": {
        "id": "hB_iQGEXZ_ez"
      }
    },
    {
      "cell_type": "code",
      "execution_count": 601,
      "metadata": {
        "colab": {
          "base_uri": "https://localhost:8080/"
        },
        "id": "WVzUelTXJVNe",
        "outputId": "d1516c8b-2384-490c-d107-b83dafc47a2a"
      },
      "outputs": [
        {
          "output_type": "stream",
          "name": "stdout",
          "text": [
            "Tamaño de X_entrenamiento: (15523, 4)\n",
            "Tamaño de Y_entrenamiento: (15523,)\n",
            "Tamaño de X_prueba: (3881, 4)\n",
            "Tamaño de Y_prueba: (3881,)\n"
          ]
        }
      ],
      "source": [
        "#Cargar desde la carpeta\n",
        "#data = np.genfromtxt('RICE.csv', delimiter=',')\n",
        "\n",
        "\n",
        "#Cargar desde drive\n",
        "data = pd.read_csv('/content/drive/Othercomputers/Mi portátil/6to Semetre Original/IA/labs/lab3/RICE.csv')\n",
        "\n",
        "# Índices de las columnas que necesitas\n",
        "columnas_indices_X = ['MaxT', 'MinT', 'RH1(%)', 'RF(mm)']  # Nombres de las columnas relevantes\n",
        "indice_y = 'Pest Value'  # Nombre de la columna de 'Pest Value'\n",
        "\n",
        "# Definir el porcentaje de datos para entrenamiento\n",
        "porcentaje_entrenamiento = 0.8\n",
        "cantidad_total_datos = len(data)\n",
        "\n",
        "# Calcular cantidad de datos para entrenamiento y prueba\n",
        "cantidad_entrenamiento = int(cantidad_total_datos * porcentaje_entrenamiento)\n",
        "cantidad_prueba = cantidad_total_datos - cantidad_entrenamiento\n",
        "\n",
        "# Obtener X e y completos\n",
        "X = data[columnas_indices_X].values\n",
        "y = data[indice_y].values\n",
        "\n",
        "# Convertir 'Pest Value' a binario\n",
        "y_binary = (y > 0).astype(int)\n",
        "\n",
        "# Dividir el dataset\n",
        "X_entrenamiento = X[:cantidad_entrenamiento]\n",
        "Y_entrenamiento = y_binary[:cantidad_entrenamiento]\n",
        "\n",
        "X_prueba = X[cantidad_entrenamiento:]\n",
        "Y_prueba = y_binary[cantidad_entrenamiento:]\n",
        "\n",
        "# Mostrar las dimensiones de los conjuntos de datos para verificar\n",
        "print(\"Tamaño de X_entrenamiento:\", X_entrenamiento.shape)\n",
        "print(\"Tamaño de Y_entrenamiento:\", Y_entrenamiento.shape)\n",
        "print(\"Tamaño de X_prueba:\", X_prueba.shape)\n",
        "print(\"Tamaño de Y_prueba:\", Y_prueba.shape)"
      ]
    },
    {
      "cell_type": "markdown",
      "source": [
        "Visualizar el"
      ],
      "metadata": {
        "id": "6zPlFJxzeYg2"
      }
    },
    {
      "cell_type": "code",
      "execution_count": 602,
      "metadata": {
        "id": "PU2IfSLdJVNf"
      },
      "outputs": [],
      "source": [
        "def plotData(X_entrenamiento, Y_entrenamiento):\n",
        "    # Gragica los puntos de datos X y y en una nueva figura. Grafica los puntos de datos con * para los positivos y\n",
        "    # o para los negativos.\n",
        "\n",
        "    # Crea una nueva figura\n",
        "    fig = pyplot.figure()\n",
        "\n",
        "    # Find Indices of Positive and Negative Examples\n",
        "    pos = y == 1\n",
        "    neg = y == 0\n",
        "    # Plot Examples\n",
        "    pyplot.plot(X[pos, 0], X[pos, 1], 'k*', lw=2, ms=10)\n",
        "    pyplot.plot(X[neg, 0], X[neg, 1], 'ko', mfc='y', ms=8, mec='k', mew=1)\n"
      ]
    },
    {
      "cell_type": "markdown",
      "metadata": {
        "id": "llREAw-3JVNg"
      },
      "source": [
        "Se llama a la función implementada para mostrar los datos cargados:"
      ]
    },
    {
      "cell_type": "code",
      "execution_count": 603,
      "metadata": {
        "colab": {
          "base_uri": "https://localhost:8080/",
          "height": 449
        },
        "id": "8ynW5qI3JVNg",
        "outputId": "62e84dd3-0d53-4f18-861a-d642e5e2adb4"
      },
      "outputs": [
        {
          "output_type": "display_data",
          "data": {
            "text/plain": [
              "<Figure size 640x480 with 1 Axes>"
            ],
            "image/png": "[encoded data removed]"
          },
          "metadata": {}
        }
      ],
      "source": [
        "plotData(X_entrenamiento, Y_entrenamiento)\n",
        "pyplot.xlabel('Calificación Examen 1')\n",
        "pyplot.ylabel('Calificación Examen 2')\n",
        "pyplot.legend(['Admitido', 'No admitido'])\n",
        "pass"
      ]
    },
    {
      "cell_type": "markdown",
      "source": [
        "función sigmoide (también conocida como función logística) calcula la función sigmoide para la entrada z.La función sigmoide se define como: sigmoid(z) = 1 / (1 + exp(-z))Parámetros:z : escalar, array unidimensional o multidimensional de numpy El valor o array sobre el cual se calculará la función sigmoide.Retorna:Un escalar o array numpy de la misma forma que z, con la función sigmoide aplicada."
      ],
      "metadata": {
        "id": "WDUHMgEQfuzN"
      }
    },
    {
      "cell_type": "code",
      "execution_count": 604,
      "metadata": {
        "id": "pk9dV23xJVNh"
      },
      "outputs": [],
      "source": [
        "\n",
        "def sigmoid(z):\n",
        "    \"\"\"\n",
        "    Calcula la función sigmoide para la entrada z.\n",
        "\n",
        "    La función sigmoide se define como:\n",
        "    sigmoid(z) = 1 / (1 + exp(-z))\n",
        "\n",
        "    Parámetros:\n",
        "    z : escalar, array unidimensional o multidimensional de numpy\n",
        "        El valor o array sobre el cual se calculará la función sigmoide.\n",
        "\n",
        "    Retorna:\n",
        "    Un escalar o array numpy de la misma forma que z, con la función sigmoide aplicada.\n",
        "    \"\"\"\n",
        "    # Utilizamos numpy.exp para calcular la exponencial de forma eficiente\n",
        "    return 1 / (1 + np.exp(-z))\n"
      ]
    },
    {
      "cell_type": "code",
      "execution_count": 605,
      "metadata": {
        "colab": {
          "base_uri": "https://localhost:8080/"
        },
        "id": "uIPk61NLJVNh",
        "outputId": "cfef1eb3-4eb9-4d7f-fe22-080f15cbd6ce"
      },
      "outputs": [
        {
          "output_type": "stream",
          "name": "stdout",
          "text": [
            "g( [0.  0.5 1. ] ) =  [0.5        0.62245933 0.73105858]\n"
          ]
        }
      ],
      "source": [
        "z = np.array([0, 0.5, 1])\n",
        "g = sigmoid(z)\n",
        "print('g(', z, ') = ', g)"
      ]
    },
    {
      "cell_type": "markdown",
      "source": [
        "Configurar la matriz adecuadamente, y agregar una columna de unos que corresponde al termino de intercepción. Agraga el termino de intercepción a X_entranamiento"
      ],
      "metadata": {
        "id": "GxyaIANfhCSk"
      }
    },
    {
      "cell_type": "code",
      "execution_count": 606,
      "metadata": {
        "id": "ELtMkiYDJVNi"
      },
      "outputs": [],
      "source": [
        "# Configurar la matriz adecuadamente, y agregar una columna de unos que corresponde al termino de intercepción.\n",
        "m, n = X_entrenamiento.shape\n",
        "# Agraga el termino de intercepción a X_entranamiento\n",
        "X_entrenamiento = np.concatenate([np.ones((m, 1)), X_entrenamiento], axis=1)"
      ]
    },
    {
      "cell_type": "markdown",
      "source": [
        "La funcion costo o función de pérdida en un modelo de regresión logística\n",
        "La hipótesis h se calcula aplicando la función sigmoide a la multiplicación de la matriz de características X_entrenamiento y el vector de parámetros theta. La función sigmoide se utiliza para obtener probabilidades en la regresión logística.El costo J se calcula utilizando la fórmula de la función de pérdida de la regresión logística. Esta fórmula se basa en la entropía cruzada entre las predicciones h y las etiquetas reales Y_entrenamiento"
      ],
      "metadata": {
        "id": "tH-7aWk5iDwA"
      }
    },
    {
      "cell_type": "code",
      "execution_count": 607,
      "metadata": {
        "id": "iqDZRIgjJVNi"
      },
      "outputs": [],
      "source": [
        "def calcularCosto(theta, X_entrenamiento, Y_entrenamiento):\n",
        "    m = len(Y_entrenamiento)  # Número de ejemplos de entrenamiento\n",
        "    # Asegúrate de que theta tenga las dimensiones adecuadas\n",
        "    if len(theta) != X_entrenamiento.shape[1]:\n",
        "        raise ValueError(f\"Dimensiones incorrectas: theta tiene {len(theta)} elementos, pero X_entrenamiento tiene {X_entrenamiento.shape[1]} características.\")\n",
        "    h = sigmoid(X_entrenamiento.dot(theta))\n",
        "    J = (1 / m) * np.sum(-Y_entrenamiento.dot(np.log(h)) - (1 - Y_entrenamiento).dot(np.log(1 - h)))\n",
        "    return J"
      ]
    },
    {
      "cell_type": "code",
      "source": [
        "print(\"Tamaño de X_entrenamiento:\", X_entrenamiento.shape)"
      ],
      "metadata": {
        "colab": {
          "base_uri": "https://localhost:8080/"
        },
        "id": "CHCEFtAtIICn",
        "outputId": "ce7cacda-fb2d-40cf-9851-5de7e64422ec"
      },
      "execution_count": 608,
      "outputs": [
        {
          "output_type": "stream",
          "name": "stdout",
          "text": [
            "Tamaño de X_entrenamiento: (15523, 5)\n"
          ]
        }
      ]
    },
    {
      "cell_type": "markdown",
      "source": [
        "implementa el algoritmo de descenso por el gradiente para optimizar los parámetros theta, donde m es el numero de ejemplos, luego en el for se repite las heces de interaciones, donde aplicando la función sigmoide a la multiplicación de X_entrenamiento por theta. Aquí theta.T es la transposición de theta, asegurando que las dimensiones Se calcula y almacena el costo actual en J_history usando la función calcularCosto"
      ],
      "metadata": {
        "id": "2shq2aJXqw4R"
      }
    },
    {
      "cell_type": "code",
      "execution_count": 609,
      "metadata": {
        "id": "7G4SjTrwJVNi"
      },
      "outputs": [],
      "source": [
        "def descensoGradiente(theta, X_entrenamiento, Y_entrenamiento, alpha, num_iters):\n",
        "    # Inicializa algunos valores\n",
        "    m = Y_entrenamiento.shape[0] # numero de ejemplos de entrenamiento\n",
        "    theta = theta.copy()\n",
        "    J_history = []\n",
        "    for i in range(num_iters):\n",
        "        h = sigmoid(X_entrenamiento.dot(theta.T))\n",
        "        theta = theta - (alpha / m) * (h - Y_entrenamiento).dot(X_entrenamiento)\n",
        "\n",
        "        J_history.append(calcularCosto(theta, X_entrenamiento, Y_entrenamiento))\n",
        "    return theta, J_history"
      ]
    },
    {
      "cell_type": "code",
      "source": [
        "print(\"Tamaño de X_entrenamiento:\", X_entrenamiento.shape)"
      ],
      "metadata": {
        "colab": {
          "base_uri": "https://localhost:8080/"
        },
        "id": "ayh_53wGIIip",
        "outputId": "accef69f-92cf-4ec5-f3d5-d96e389575af"
      },
      "execution_count": 610,
      "outputs": [
        {
          "output_type": "stream",
          "name": "stdout",
          "text": [
            "Tamaño de X_entrenamiento: (15523, 5)\n"
          ]
        }
      ]
    },
    {
      "cell_type": "markdown",
      "source": [
        "Elegimos numero de iteraciones y porcentaje de aprendisaje, damos un tamaño de tetha con la canyidad de columnas de X_entramiento, llamamos a la funcion decensoGradiente, lo mostramos, damos el sesgo a X_Prueba luego se \"Y_preb_prueba\" realiza la predicción de las etiquetas para un conjunto de prueba en un modelo de regresión logística, luego se realiza el cálculo del porcentaje de aciertos del modelo en el conjunto de prueba y muestra el resultado en la consola"
      ],
      "metadata": {
        "id": "fXPpstFgrYYS"
      }
    },
    {
      "cell_type": "code",
      "execution_count": 611,
      "metadata": {
        "scrolled": true,
        "colab": {
          "base_uri": "https://localhost:8080/",
          "height": 677
        },
        "id": "rBUlehg6JVNi",
        "outputId": "87469cbd-7521-4ce0-f7ba-d3e35fb4a5fa"
      },
      "outputs": [
        {
          "output_type": "stream",
          "name": "stdout",
          "text": [
            "Tamaño de X_entrenamiento: (15523, 5)\n",
            "Tamaño de Y_entrenamiento: (15523,)\n",
            "[0 0 0 0 0 0 0 0 0 0 0 0 0 0 0 0 0 0 0 0 0 0 0 0 0 0 0 0 0 0 0 0 0 0 0 0 1\n",
            " 1 1 1 1 1 1 1 0 0 0 0 0 0]\n",
            "[-0.01342717 -0.14363202  0.17897708  0.01445485 -0.00624579]\n",
            "[0.6991423186367214, 0.702864174656389, 0.7132369303558531, 0.7168443955871783, 0.732477653363354, 0.7328002986808951, 0.7531884129924218, 0.7466598462819901, 0.7701504582808176, 0.7557475349992704]\n",
            "theta calculado por el descenso por el gradiente: [-0.01342717 -0.14363202  0.17897708  0.01445485 -0.00624579]\n",
            "[0 0 0 0 0 0 1 1 1 1 1 0 0 0 0 1 1 1 1 1 1 1 1 0 0 0 1 0 1 1 0 0 1 1 1 1 0\n",
            " 1 1 1 1 1 1 1 1 1 1 1 1 1]\n",
            "[0 0 0 0 0 0 0 0 0 0 0 0 0 0 0 0 0 0 0 0 1 0 0 0 0 0 0 0 1 1 1 1 1 1 1 1 1\n",
            " 1 1 1 1 1 1 1 1 0 1 1 1 1]\n",
            "Porcentaje de acierto del modelo en el conjunto de prueba: 54.50%\n"
          ]
        },
        {
          "output_type": "display_data",
          "data": {
            "text/plain": [
              "<Figure size 640x480 with 1 Axes>"
            ],
            "image/png": "[encoded data removed]"
          },
          "metadata": {}
        }
      ],
      "source": [
        "# Elegir algun valor para alpha (probar varias alternativas)\n",
        "alpha = 0.001\n",
        "num_iters = 10000\n",
        "print(\"Tamaño de X_entrenamiento:\", X_entrenamiento.shape)\n",
        "print(\"Tamaño de Y_entrenamiento:\", Y_entrenamiento.shape)\n",
        "print(Y_entrenamiento[:50])\n",
        "# inicializa theta y ejecuta el descenso por el gradiente\n",
        "theta = np.zeros(X_entrenamiento.shape[1])\n",
        "\n",
        "\n",
        "theta, J_history = descensoGradiente(theta, X_entrenamiento, Y_entrenamiento, alpha, num_iters)\n",
        "print(theta[:10])\n",
        "print(J_history[:10])\n",
        "# Grafica la convergencia del costo\n",
        "pyplot.plot(np.arange(len(J_history)), J_history, lw=2)\n",
        "pyplot.xlabel('Numero de iteraciones')\n",
        "pyplot.ylabel('Costo J')\n",
        "\n",
        "# Muestra los resultados del descenso por el gradiente\n",
        "print('theta calculado por el descenso por el gradiente: {:s}'.format(str(theta)))\n",
        "\n",
        "# verificar si ingresa o no a la universidad\n",
        "# Se debe cambiar esto\n",
        "m, n = X_prueba.shape\n",
        "# Agraga el termino de intercepción a A\n",
        "X_prueba = np.concatenate([np.ones((m, 1)), X_prueba], axis=1)\n",
        "Y_pred_prueba = (sigmoid(np.dot(X_prueba, theta)) >= 0.5).astype(int)\n",
        "print(Y_prueba[:50])\n",
        "print(Y_pred_prueba[:50])\n",
        "# Calcular el porcentaje de acierto (precisión) del modelo en el conjunto de prueba\n",
        "from sklearn.metrics import accuracy_score\n",
        "porcentaje_acierto = accuracy_score(Y_prueba, Y_pred_prueba) * 100\n",
        "print(f'Porcentaje de acierto del modelo en el conjunto de prueba: {porcentaje_acierto:.2f}%')"
      ]
    },
    {
      "cell_type": "code",
      "source": [
        "X_array = [1,29.8,11.6,83.6,0]\n",
        "Y_entrenamiento = sigmoid(np.dot(X_array, theta))\n",
        "print(Y_entrenamiento)\n",
        "print('Un estudiante con nota examen 1: 36 y nota examen 2: 30 -> :{:.0f}'.format(Y_entrenamiento))"
      ],
      "metadata": {
        "colab": {
          "base_uri": "https://localhost:8080/"
        },
        "id": "OCMi6DgUjA0O",
        "outputId": "99975c35-63db-4a8d-af8f-c83dc3033f9f"
      },
      "execution_count": 612,
      "outputs": [
        {
          "output_type": "stream",
          "name": "stdout",
          "text": [
            "0.2671556846229365\n",
            "Un estudiante con nota examen 1: 36 y nota examen 2: 30 -> :0\n"
          ]
        }
      ]
    },
    {
      "cell_type": "markdown",
      "source": [
        "está diseñada para calcular tanto el costo como el gradiente en un modelo de regresión logística, m es numero de entranamiento, Cálculo de la Predicción (h), luego Evitar Valores Extremadamente Cercanos a 0 o 1, Cálculo del Costo (J), Cálculo del Gradiente (grad)"
      ],
      "metadata": {
        "id": "csqxtX1HE-4g"
      }
    },
    {
      "cell_type": "code",
      "execution_count": 613,
      "metadata": {
        "id": "C2Qew-sRJVNj"
      },
      "outputs": [],
      "source": [
        "def costFunction(theta, X, y):\n",
        "    \"\"\"\n",
        "    Calcula el costo y el gradiente para la regresión logística.\n",
        "\n",
        "    Parámetros:\n",
        "    theta : array numpy de tamaño (n+1,)\n",
        "        Vector de parámetros para la regresión logística.\n",
        "    X : array numpy de tamaño (m, n+1)\n",
        "        Matriz de características (con el término de sesgo).\n",
        "    y : array numpy de tamaño (m,)\n",
        "        Vector de valores reales.\n",
        "\n",
        "    Retorna:\n",
        "    J : escalar\n",
        "        El costo de usar theta como parámetro.\n",
        "    grad : array numpy de tamaño (n+1,)\n",
        "        Gradiente de los parámetros.\n",
        "    \"\"\"\n",
        "    m = len(y)  # Número de ejemplos de entrenamiento\n",
        "    h = sigmoid(np.dot(X, theta))  # Calcula h(theta)\n",
        "\n",
        "    # Evita valores de 0 o 1 en h para prevenir log(0)\n",
        "    epsilon = 1e-5\n",
        "    h = np.clip(h, epsilon, 1 - epsilon)\n",
        "\n",
        "    # Calcula el costo\n",
        "    J = (1 / m) * np.sum(-y * np.log(h) - (1 - y) * np.log(1 - h))\n",
        "\n",
        "    # Calcula el gradiente\n",
        "    grad = (1 / m) * np.dot(X.T, (h - y))\n",
        "\n",
        "    return J, grad"
      ]
    },
    {
      "cell_type": "code",
      "execution_count": 614,
      "metadata": {
        "colab": {
          "base_uri": "https://localhost:8080/"
        },
        "id": "j7Fe_xEZJVNj",
        "outputId": "3a72b14a-48a0-4719-a7ef-20f3d917b59e"
      },
      "outputs": [
        {
          "output_type": "stream",
          "name": "stdout",
          "text": [
            "[0. 0. 0. 0. 0.]\n",
            "Costo en theta inicial (zeros): 0.693\n",
            "Costo esperado (aproximado): 0.693\n",
            "\n",
            "[-0.01558877 -0.5003092  -0.50707292 -1.73340634 -0.78403762]\n",
            "Gradiente en theta inicial (zeros):\n",
            "\t[-0.0156, -0.5003, -0.5071]\n",
            "Gradiente esperado (aproximado):\n",
            "\t[-0.1000, -12.0092, -11.2628]\n",
            "\n"
          ]
        }
      ],
      "source": [
        "# Inicializacion de parametros de ajuste\n",
        "initial_theta = np.zeros(X_prueba.shape[1])\n",
        "\n",
        "print(initial_theta)\n",
        "cost, grad = costFunction(initial_theta, X_prueba, Y_prueba)\n",
        "\n",
        "print('Costo en theta inicial (zeros): {:.3f}'.format(cost))\n",
        "print('Costo esperado (aproximado): 0.693\\n')\n",
        "print(grad)\n",
        "print('Gradiente en theta inicial (zeros):')\n",
        "print('\\t[{:.4f}, {:.4f}, {:.4f}]'.format(*grad))\n",
        "print('Gradiente esperado (aproximado):\\n\\t[-0.1000, -12.0092, -11.2628]\\n')\n",
        "\n"
      ]
    },
    {
      "cell_type": "markdown",
      "source": [
        "define un diccionario de opciones para el algoritmo de optimización. En este caso, 'maxiter': 1000 establece el número máximo de iteraciones, optimize.minimize busca encontrar el valor óptimo de theta que minimiza la función de costo:\n",
        "\n",
        "1.   costFunction: La función de costo que se quiere minimizar, que debe devolver tanto el costo como el gradiente.\n",
        "2.   initial_theta: El punto de partida para el optimizador. Aquí, initial_theta es el valor inicial de los parámetros theta.\n",
        "3. (X_prueba, Y_prueba): Los datos de entrenamiento que se pasan a la función de costo. La tupla contiene la matriz de características y el vector de etiquetas.\n",
        "4. jac=True: Indica que la función de costo devuelve también el gradiente (derivadas) junto con el costo. Esto permite que el optimizador utilice el gradiente para mejorar la eficiencia.\n",
        "5. method='TNC': El algoritmo de optimización a utilizar. 'TNC' es el algoritmo de Newton Truncated, que es un método de optimización que usa la información de segunda orden (aproximación de la matriz Hessiana) para encontrar el mínimo.\n",
        "6. options=options: Las opciones para el optimizador, como el número máximo de iteraciones.\n",
        "\n",
        "Obtener el Costo Optimizado<br>\n",
        "Obtener los Parámetros Optimizados<br>\n",
        "Imprimir los Resultados<br>"
      ],
      "metadata": {
        "id": "ioyd1N7QGFfL"
      }
    },
    {
      "cell_type": "code",
      "source": [
        "from scipy import optimize"
      ],
      "metadata": {
        "id": "Tan_p14mHK0P"
      },
      "execution_count": 615,
      "outputs": []
    },
    {
      "cell_type": "code",
      "execution_count": 616,
      "metadata": {
        "scrolled": true,
        "colab": {
          "base_uri": "https://localhost:8080/"
        },
        "id": "sB2xAu03JVNj",
        "outputId": "4e7daa4d-4480-4b76-9a0a-78c28f69cd86"
      },
      "outputs": [
        {
          "output_type": "stream",
          "name": "stdout",
          "text": [
            "Costo con un valor de theta encontrado por optimize.minimize: 0.680\n",
            "Costo esperado (aproximado): 0.203\n",
            "\n",
            "theta:\n",
            "\t[-5.421, 0.055, 0.044]\n",
            "Theta esperado (aproximado):\n",
            "\t[-25.161, 0.206, 0.201]\n"
          ]
        }
      ],
      "source": [
        "# Establecer las opciones para optimize.minimize\n",
        "\n",
        "# revisar la documentacion de scipy's optimize.minimize para mayor descripcion de los parametros\n",
        "# La funcion devuekve un objeto `OptimizeResult`\n",
        "# Se utiliza el algoritmo de Newton truncado para la optimización.\n",
        "res = optimize.minimize(costFunction,\n",
        "                        initial_theta,\n",
        "                        (X_prueba, Y_prueba),\n",
        "                        jac=True,\n",
        "                        method='TNC')\n",
        "\n",
        "# la propiedad fun del objeto devuelto por `OptimizeResult`\n",
        "# contiene el valor del costFunction de un theta optimizado\n",
        "cost = res.fun\n",
        "\n",
        "# Theta optimizada esta en la propiedad x\n",
        "theta = res.x\n",
        "\n",
        "# Imprimir theta en la pantalla\n",
        "print('Costo con un valor de theta encontrado por optimize.minimize: {:.3f}'.format(cost))\n",
        "print('Costo esperado (aproximado): 0.203\\n');\n",
        "\n",
        "print('theta:')\n",
        "print('\\t[{:.3f}, {:.3f}, {:.3f}]'.format(*theta))\n",
        "print('Theta esperado (aproximado):\\n\\t[-25.161, 0.206, 0.201]')"
      ]
    },
    {
      "cell_type": "code",
      "execution_count": 617,
      "metadata": {
        "id": "_mDWAzqxJVNk"
      },
      "outputs": [],
      "source": [
        "def plotDecisionBoundary(plotData, theta, X, y):\n",
        "    \"\"\"\n",
        "    Grafica los puntos X y Y en una nueva figura con un limite de desicion definido por theta.\n",
        "    the data points X and y into a new figure with the decision boundary defined by theta.\n",
        "    Grafica los puntos con * para los ejemplos positivos y con o para los ejemplos negativos.\n",
        "\n",
        "    Parametros:\n",
        "    ----------\n",
        "    plotData : func\n",
        "        A function reference for plotting the X, y data.\n",
        "\n",
        "    theta : array_like\n",
        "        Parametros para la regresion logistica. Un vecto de la forma (n+1, ).\n",
        "\n",
        "    X : array_like\n",
        "        Data set de entrada. Se supone que X es una de las siguientes:\n",
        "            1) Matriz Mx3, donde la primera columna es una columna de unos para intercepción.\n",
        "            2) Matriz MxN, N> 3, donde la primera columna son todos unos.\n",
        "\n",
        "    y : array_like\n",
        "        Vector de datos de etiquetas de la forma (m, ).\n",
        "    \"\"\"\n",
        "    # hacer que theta sera un arreglo numpy\n",
        "    theta = np.array(theta)\n",
        "\n",
        "    # Graficar los datos (recordar que la primera columna en X es la intercepción)\n",
        "    plotData(X[:, 1:3], y)\n",
        "\n",
        "    if X.shape[1] <= 3:\n",
        "        # Solo se requieren 2 puntos para definir una linea, para lo cual se eligen dos puntos finales\n",
        "        plot_x = np.array([np.min(X[:, 1]) - 2, np.max(X[:, 1]) + 2])\n",
        "\n",
        "        # Calcular la línea límite de decisión\n",
        "        plot_y = (-1. / theta[2]) * (theta[1] * plot_x + theta[0])\n",
        "\n",
        "        print(plot_x)\n",
        "        print(plot_y)\n",
        "        # Graficar y ajustar los ejes para una mejor visualización\n",
        "        pyplot.plot(plot_x, plot_y)\n",
        "\n",
        "        # Leyenda, especifica para el ejercicio\n",
        "        pyplot.legend(['Admitido', 'No admitido', 'Limite de decisión'])\n",
        "        pyplot.xlim([30, 100])\n",
        "        pyplot.ylim([30, 100])\n",
        "    else:\n",
        "        # Rango de la grilla\n",
        "        u = np.linspace(-1, 1.5, 50)\n",
        "        v = np.linspace(-1, 1.5, 50)\n",
        "\n",
        "        z = np.zeros((u.size, v.size))\n",
        "        # Evalua z = theta*x sobre la grilla\n",
        "        for i, ui in enumerate(u):\n",
        "            for j, vj in enumerate(v):\n",
        "                z[i, j] = np.dot(mapFeature(ui, vj), theta)\n",
        "\n",
        "        z = z.T  # importante transponer z antes de llamar al contorno\n",
        "        # print(z)\n",
        "\n",
        "        # Plot z = 0\n",
        "        pyplot.contour(u, v, z, levels=[0], linewidths=2, colors='g')\n",
        "        pyplot.contourf(u, v, z, levels=[np.min(z), 0, np.max(z)], cmap='Greens', alpha=0.4)\n"
      ]
    },
    {
      "cell_type": "markdown",
      "source": [
        "damos numero de ejemplos de entranamiento, creamos una varibale con la cantidad de columnas X.\n",
        "1. Calcula la predicción lineal (logit) para cada ejemplo en X_prueba.\n",
        "2. Aplica la función sigmoide a estos logits para obtener las probabilidades de pertenecer a la clase positiva.\n",
        "3. Redondea las probabilidades a 0 o 1 para obtener las predicciones finales de clase."
      ],
      "metadata": {
        "id": "ZNRDu1nPJdYo"
      }
    },
    {
      "cell_type": "code",
      "execution_count": 618,
      "metadata": {
        "id": "0xz73RAdJVNk"
      },
      "outputs": [],
      "source": [
        "def predict(theta, X_prueba):\n",
        "    \"\"\"\n",
        "    Predecir si la etiqueta es 0 o 1 mediante regresión logística aprendida.\n",
        "    Calcula las predicciones para X usando un umbral en 0.5 (es decir, si sigmoide (theta.T * x)> = 0.5, predice 1)\n",
        "\n",
        "    Parametros\n",
        "    ----------\n",
        "    theta : array_like\n",
        "        Parametros para regresion logistica. Un vecto de la forma (n+1, ).\n",
        "\n",
        "    X : array_like\n",
        "        Datos utilizados para el calculo de las predicciones.\n",
        "        La fila es el numero de los puntos para calcular las predicciones,\n",
        "        y las columnas con el numero de caracteristicas.\n",
        "\n",
        "    Devuelve\n",
        "    -------\n",
        "    p : array_like\n",
        "        Predicciones y 0 o 1 para cada fila en X.\n",
        "    \"\"\"\n",
        "    m = X.shape[0] # Numero de ejemplo de entrenamiento\n",
        "\n",
        "    p = np.zeros(m)\n",
        "\n",
        "    p = np.round(sigmoid(X_prueba.dot(theta.T)))\n",
        "    return p"
      ]
    },
    {
      "cell_type": "markdown",
      "metadata": {
        "id": "w5PnbHiWJVNk"
      },
      "source": [
        "Una vez entrenado el modelo se procede a realizar la prediccion y evaluación de los resultados de predecir cual es el valor que vota el modelo para todos los datos utilizados en el entrenamiento."
      ]
    },
    {
      "cell_type": "code",
      "execution_count": 622,
      "metadata": {
        "colab": {
          "base_uri": "https://localhost:8080/"
        },
        "id": "VcAxVqIWJVNk",
        "outputId": "c0078b4c-e2bb-4c0c-edf1-376a16803006"
      },
      "outputs": [
        {
          "output_type": "stream",
          "name": "stdout",
          "text": [
            ": 0.500%\n",
            "Valor esperado: 0.775 +/- 0.002\n",
            "\n",
            "Precisión de entrenamiento: 56.51 %\n",
            "Precisión esperada (aproximadamente): 89.00 %\n"
          ]
        }
      ],
      "source": [
        "#  Predice la probabilidad de ingreso para un estudiante con nota de 45 en el examen 1 y nota de 85 en el examen 2\n",
        "prob = sigmoid(np.dot([0,0,0,0,0], theta))\n",
        "print(': {:.3f}%'.format(prob))\n",
        "print('Valor esperado: 0.775 +/- 0.002\\n')\n",
        "\n",
        "# Compute accuracy on our training set\n",
        "p = predict(theta, X_prueba)\n",
        "print('Precisión de entrenamiento: {:.2f} %'.format(np.mean(p == Y_prueba) * 100))\n",
        "print('Precisión esperada (aproximadamente): 89.00 %')"
      ]
    }
  ],
  "metadata": {
    "kernelspec": {
      "display_name": "Python 3",
      "language": "python",
      "name": "python3"
    },
    "language_info": {
      "codemirror_mode": {
        "name": "ipython",
        "version": 3
      },
      "file_extension": ".py",
      "mimetype": "text/x-python",
      "name": "python",
      "nbconvert_exporter": "python",
      "pygments_lexer": "ipython3",
      "version": "3.8.5"
    },
    "colab": {
      "provenance": []
    }
  },
  "nbformat": 4,
  "nbformat_minor": 0
}