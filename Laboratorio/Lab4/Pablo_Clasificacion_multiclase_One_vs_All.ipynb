{
  "nbformat": 4,
  "nbformat_minor": 0,
  "metadata": {
    "colab": {
      "provenance": []
    },
    "kernelspec": {
      "name": "python3",
      "display_name": "Python 3"
    },
    "language_info": {
      "name": "python"
    }
  },
  "cells": [
    {
      "cell_type": "markdown",
      "source": [
        "\n",
        "#Lopez Chavez Pablo\n"
      ],
      "metadata": {
        "id": "HuKc-McV0rsw"
      }
    },
    {
      "cell_type": "markdown",
      "source": [
        "Leer de google drive"
      ],
      "metadata": {
        "id": "jrDZhQMo6lJP"
      }
    },
    {
      "cell_type": "code",
      "execution_count": 77,
      "metadata": {
        "colab": {
          "base_uri": "https://localhost:8080/"
        },
        "id": "BUiagmkH6OnN",
        "outputId": "36486da0-c8a8-4123-aca2-1ca8658b86de"
      },
      "outputs": [
        {
          "output_type": "stream",
          "name": "stdout",
          "text": [
            "Drive already mounted at /content/drive; to attempt to forcibly remount, call drive.mount(\"/content/drive\", force_remount=True).\n"
          ]
        }
      ],
      "source": [
        "from google.colab import drive\n",
        "drive.mount('/content/drive')"
      ]
    },
    {
      "cell_type": "markdown",
      "source": [
        "Librerias"
      ],
      "metadata": {
        "id": "m9_kgxyQ6tFO"
      }
    },
    {
      "cell_type": "code",
      "source": [
        "import os\n",
        "\n",
        "# Cálculo científico y vectorial para python\n",
        "import numpy as np\n",
        "\n",
        "# Libreria para graficos\n",
        "from matplotlib import pyplot\n",
        "\n",
        "# Modulo de optimizacion en scipy\n",
        "from scipy import optimize\n",
        "import pandas as pd\n",
        "from sklearn.preprocessing import LabelEncoder\n",
        "import matplotlib.pyplot as plt\n",
        "from scipy.optimize import fmin_tnc\n",
        "\n",
        "# modulo para cargar archivos en formato MATLAB\n",
        "# from scipy.io import loadmat\n",
        "\n",
        "# le dice a matplotlib que incruste gráficos en el cuaderno\n",
        "%matplotlib inline"
      ],
      "metadata": {
        "id": "eY12g5Eu6kiA"
      },
      "execution_count": 78,
      "outputs": []
    },
    {
      "cell_type": "markdown",
      "source": [
        "Leemos el data set y Codificar la columna 'Gender' usando LabelEncoder, Ajusta el codificador a la columna 'Gender' y luego la transforma,\n",
        "reemplazando los valores categóricos (como 'Male' y 'Female') por valores numéricos (por ejemplo, 'Male' puede ser 1 y 'Female' puede ser 0), Codificar la columna 'Customer Type' usando LabelEncoder\n",
        "Se aplica el mismo procedimiento a la columna 'Customer Type'. Si la columna tiene valores como 'Loyal Customer' y 'Disloyal Customer',\n",
        "estos se convertirán en números, por ejemplo, 0 y 1.\n",
        "Codificar la columna 'Type of Travel' usando LabelEncoder\n",
        "valores numericos, Convertir 'satisfaction' a 1 para 'satisfied' y 0 para 'neutral or dissatisfaction',  Reorganizar las columnas para poner 'Class' al final, Guardar el dataset preprocesado en un nuevo archivo CSV, usando drive"
      ],
      "metadata": {
        "id": "Kt4qDzXCqxCv"
      }
    },
    {
      "cell_type": "code",
      "source": [
        "#Cargar desde computadora\n",
        "#data = np.genfromtxt('test.csv', delimiter=',')\n",
        "\n",
        "data = pd.read_csv('/content/drive/Othercomputers/Mi portátil/6to Semetre Original/IA/labs/Lab4/test.csv')\n",
        "data.drop('#', axis=1, inplace=True)\n",
        "\n",
        "# Codificar la columna 'Gender' usando LabelEncoder\n",
        "# Ajusta el codificador a la columna 'Gender' y luego la transforma,\n",
        "#reemplazando los valores categóricos (como 'Male' y 'Female') por valores numéricos (por ejemplo, 'Male' puede ser 1 y 'Female' puede ser 0).\n",
        "label_encoder = LabelEncoder()\n",
        "data['Gender'] = label_encoder.fit_transform(data['Gender'])\n",
        "\n",
        "# Codificar la columna 'Customer Type' usando LabelEncoder\n",
        "#Se aplica el mismo procedimiento a la columna 'Customer Type'. Si la columna tiene valores como 'Loyal Customer' y 'Disloyal Customer',\n",
        "#estos se convertirán en números, por ejemplo, 0 y 1.\n",
        "data['Customer Type'] = label_encoder.fit_transform(data['Customer Type'])\n",
        "\n",
        "# Codificar la columna 'Type of Travel' usando LabelEncoder\n",
        "#valores numericos\n",
        "data['Type of Travel'] = label_encoder.fit_transform(data['Type of Travel'])\n",
        "\n",
        "# Convertir 'satisfaction' a 1 para 'satisfied' y 0 para 'neutral or dissatisfaction'\n",
        "data['satisfaction'] = (data['satisfaction'] == 'satisfied').astype(int)\n",
        "\n",
        "# Reorganizar las columnas para poner 'Class' al final\n",
        "class_col = data.pop('Class')\n",
        "data['Class'] = class_col\n",
        "\n",
        "# Guardar el dataset preprocesado en un nuevo archivo CSV\n",
        "#data.to_csv('dataset_preprocesado_numerico.csv', index=False)\n",
        "\n",
        "#usando drive\n",
        "file_path = '/content/drive/Othercomputers/Mi portátil/6to Semetre Original/IA/labs/Lab4/dataset_preprocesado_numerico.csv'\n",
        "data.to_csv(file_path, index=False)\n",
        "#usando computadora\n",
        "#data.to_csv('dataset_preprocesado_numerico.csv', index=False)\n"
      ],
      "metadata": {
        "id": "aFq6Vl-i6xtf"
      },
      "execution_count": 79,
      "outputs": []
    },
    {
      "cell_type": "markdown",
      "source": [
        "Cargamos de nuevo Eliminar la primera fila que contiene los encabezados de las columnas, Convertir la columna 'Class' en valores numéricos, Eliminar las filas que contienen valores faltantes, Convertir el DataFrame a una matriz NumPy si es necesario,"
      ],
      "metadata": {
        "id": "9o_4jDG29Pq2"
      }
    },
    {
      "cell_type": "code",
      "source": [
        "# Cargar el dataset usando Pandas\n",
        "data = pd.read_csv('/content/drive/Othercomputers/Mi portátil/6to Semetre Original/IA/labs/Lab4/dataset_preprocesado_numerico.csv')\n",
        "\n",
        "# Eliminar la primera fila que contiene los encabezados de las columnas\n",
        "data = data.iloc[1:]\n",
        "\n",
        "# Convertir la columna 'Class' en valores numéricos\n",
        "class_mapping = {'Business': 1, 'Eco': 2, 'Eco Plus': 3}\n",
        "data['Class'] = data['Class'].map(class_mapping)\n",
        "\n",
        "# Eliminar las filas que contienen valores faltantes\n",
        "data.dropna(inplace=True)\n",
        "\n",
        "# Convertir el DataFrame a una matriz NumPy si es necesario\n",
        "data_np = data.to_numpy()\n",
        "# Imprimir el primer valor de cada columna\n",
        "for column in data.columns:\n",
        "    print(f\"Primer valor en la columna '{column}': {data[column].iloc[0]}\")\n"
      ],
      "metadata": {
        "id": "USG0jQBd9PZ_",
        "colab": {
          "base_uri": "https://localhost:8080/"
        },
        "outputId": "6679dcca-73f5-4351-ea11-a9970e4db4aa"
      },
      "execution_count": 80,
      "outputs": [
        {
          "output_type": "stream",
          "name": "stdout",
          "text": [
            "Primer valor en la columna 'id': 90035\n",
            "Primer valor en la columna 'Gender': 0\n",
            "Primer valor en la columna 'Customer Type': 0\n",
            "Primer valor en la columna 'Age': 36\n",
            "Primer valor en la columna 'Type of Travel': 0\n",
            "Primer valor en la columna 'Flight Distance': 2863\n",
            "Primer valor en la columna 'Inflight wifi service': 1\n",
            "Primer valor en la columna 'Departure/Arrival time convenient': 1\n",
            "Primer valor en la columna 'Ease of Online booking': 3\n",
            "Primer valor en la columna 'Gate location': 1\n",
            "Primer valor en la columna 'Food and drink': 5\n",
            "Primer valor en la columna 'Online boarding': 4\n",
            "Primer valor en la columna 'Seat comfort': 5\n",
            "Primer valor en la columna 'Inflight entertainment': 4\n",
            "Primer valor en la columna 'On-board service': 4\n",
            "Primer valor en la columna 'Leg room service': 4\n",
            "Primer valor en la columna 'Baggage handling': 4\n",
            "Primer valor en la columna 'Checkin service': 3\n",
            "Primer valor en la columna 'Inflight service': 4\n",
            "Primer valor en la columna 'Cleanliness': 5\n",
            "Primer valor en la columna 'Departure Delay in Minutes': 0\n",
            "Primer valor en la columna 'Arrival Delay in Minutes': 0.0\n",
            "Primer valor en la columna 'satisfaction': 1\n",
            "Primer valor en la columna 'Class': 1\n"
          ]
        }
      ]
    },
    {
      "cell_type": "markdown",
      "source": [
        "La entrada es de 23 elemento contando con x0, 3 etiquetas (1, 2 o 3), los datos de entrenamiento el 80% para x desde las 0 hasta las 20714 Todas menos la ultima para y solo la ultima, desde las 20714 hasta.."
      ],
      "metadata": {
        "id": "lpa0SoBgrcgw"
      }
    },
    {
      "cell_type": "code",
      "source": [
        "# La entrada es de 23 elemento contando con x0\n",
        "input_layer_size  = 23\n",
        "\n",
        "# 3 etiquetas (1, 2 o 3)\n",
        "num_labels = 3\n",
        "#desde las 0 hasta las 20714 Todas menos la ultima\n",
        "X = data_np[:20780, :-1]\n",
        "#solo la\n",
        "y = data_np[:20780, -1]\n",
        "#desde las 20714 hasta..\n",
        "X_test = data_np[20780:, :-1]\n",
        "Y_test = data_np[20780:, -1]\n",
        "\n",
        "m = y.size"
      ],
      "metadata": {
        "id": "yUjIdEuIABZ5"
      },
      "execution_count": 81,
      "outputs": []
    },
    {
      "cell_type": "code",
      "source": [
        "print(X.shape)\n",
        "print(y.shape)\n",
        "print(X_test.shape)\n",
        "print(Y_test.shape)"
      ],
      "metadata": {
        "colab": {
          "base_uri": "https://localhost:8080/"
        },
        "id": "AxEH5zyc4uMN",
        "outputId": "adb8f73e-15be-4d55-9bd7-d24471b6537a"
      },
      "execution_count": 82,
      "outputs": [
        {
          "output_type": "stream",
          "name": "stdout",
          "text": [
            "(20780, 23)\n",
            "(20780,)\n",
            "(5112, 23)\n",
            "(5112,)\n"
          ]
        }
      ]
    },
    {
      "cell_type": "markdown",
      "source": [
        "Normalizamos los datos"
      ],
      "metadata": {
        "id": "Xy7fvC4ZsLAY"
      }
    },
    {
      "cell_type": "code",
      "source": [
        "def  featureNormalize(X):\n",
        "    X_norm = X.copy()\n",
        "    mu = np.zeros(X.shape[1])\n",
        "    sigma = np.zeros(X.shape[1])\n",
        "\n",
        "    mu = np.mean(X, axis = 0)\n",
        "    sigma = np.std(X, axis = 0)\n",
        "    X_norm = (X - mu) / sigma\n",
        "\n",
        "    return X_norm, mu, sigma"
      ],
      "metadata": {
        "id": "8N5fUEtdAtFY"
      },
      "execution_count": 83,
      "outputs": []
    },
    {
      "cell_type": "code",
      "source": [
        "print(X.shape)\n",
        "print(y.shape)\n",
        "print(X_test.shape)\n",
        "print(Y_test.shape)"
      ],
      "metadata": {
        "colab": {
          "base_uri": "https://localhost:8080/"
        },
        "id": "KOB6CQ5dxBUr",
        "outputId": "27f3239a-e3fa-4d45-ad73-53a8ad6d8d85"
      },
      "execution_count": 84,
      "outputs": [
        {
          "output_type": "stream",
          "name": "stdout",
          "text": [
            "(20780, 23)\n",
            "(20780,)\n",
            "(5112, 23)\n",
            "(5112,)\n"
          ]
        }
      ]
    },
    {
      "cell_type": "markdown",
      "source": [
        "Se llama a la funcion para normalizar los datos"
      ],
      "metadata": {
        "id": "PwVXKAu6sNRI"
      }
    },
    {
      "cell_type": "code",
      "source": [
        "# llama featureNormalize con los datos cargados\n",
        "X_norm, mu, sigma = featureNormalize(X)\n",
        "X_test_norm, mu_test,sigma_test = featureNormalize(X_test)"
      ],
      "metadata": {
        "id": "DXe8EWfcAuSw"
      },
      "execution_count": 85,
      "outputs": []
    },
    {
      "cell_type": "markdown",
      "source": [
        "Configurar la matriz adecuadamente, y agregar una columna de unos que corresponde al termino de intercepción."
      ],
      "metadata": {
        "id": "0p1vtiu3sSKX"
      }
    },
    {
      "cell_type": "code",
      "source": [
        "# Configurar la matriz adecuadamente, y agregar una columna de unos que corresponde al termino de intercepción.\n",
        "m, n = X.shape\n",
        "X = X_norm\n"
      ],
      "metadata": {
        "id": "-TQ4Sp2HAxFg"
      },
      "execution_count": 86,
      "outputs": []
    },
    {
      "cell_type": "code",
      "source": [
        "print(X.shape)\n",
        "print(y.shape)\n",
        "print(X_test.shape)\n",
        "print(Y_test.shape)"
      ],
      "metadata": {
        "colab": {
          "base_uri": "https://localhost:8080/"
        },
        "id": "pV1uWuQwuTzy",
        "outputId": "ed0323f4-30ce-41be-ec0b-10d5f3474d82"
      },
      "execution_count": 87,
      "outputs": [
        {
          "output_type": "stream",
          "name": "stdout",
          "text": [
            "(20780, 23)\n",
            "(20780,)\n",
            "(5112, 23)\n",
            "(5112,)\n"
          ]
        }
      ]
    },
    {
      "cell_type": "code",
      "source": [
        "# Selecciona aleatoriamente 100 puntos de datos para mostrar\n",
        "rand_indices = np.random.choice(m, 100, replace=False)\n",
        "sel = X[rand_indices, :]\n",
        "print(sel.shape)"
      ],
      "metadata": {
        "id": "qJVMuLNVAzPg",
        "colab": {
          "base_uri": "https://localhost:8080/"
        },
        "outputId": "b9abf528-3406-4d2a-b716-0cb8f551d3e4"
      },
      "execution_count": 88,
      "outputs": [
        {
          "output_type": "stream",
          "name": "stdout",
          "text": [
            "(100, 23)\n"
          ]
        }
      ]
    },
    {
      "cell_type": "markdown",
      "source": [
        "la funcion que nos ayuda a transformar cualquier valor entre 0 y 1 para modelar probabilidades, ya que la salida puede interpretarse como una probabilidad."
      ],
      "metadata": {
        "id": "qJq7ip_OsXg2"
      }
    },
    {
      "cell_type": "code",
      "source": [
        "def sigmoid(z):\n",
        "    \"\"\"\n",
        "    Calcula la sigmoide de z.\n",
        "    \"\"\"\n",
        "    return 1.0 / (1.0 + np.exp(-z))"
      ],
      "metadata": {
        "id": "5EZgVRuXA0yw"
      },
      "execution_count": 89,
      "outputs": []
    },
    {
      "cell_type": "markdown",
      "source": [
        "algoritmo de optimización para ajustar los parámetros de un modelo de regresión logística durante el entrenamiento. Ayuda a encontrar los valores óptimos de los parámetros que minimizan el costo total, teniendo en cuenta la regularización para evitar sobreajuste"
      ],
      "metadata": {
        "id": "4UIgwQFQtTtf"
      }
    },
    {
      "cell_type": "code",
      "source": [
        "def lrCostFunction(theta, X, y, lambda_):\n",
        "    \"\"\"\n",
        "    Calcula el costo de usar theta como parámetro para la regresión logística regularizada y\n",
        "    el gradiente del costo w.r.t. a los parámetros.\n",
        "\n",
        "    Parametros\n",
        "    ----------\n",
        "    theta : array_like\n",
        "        Parametro theta de la regresion logistica. Vector de la forma(shape) (n, ). n es el numero de caracteristicas\n",
        "        incluida la intercepcion\n",
        "\n",
        "    X : array_like\n",
        "        Dataset con la forma(shape) (m x n). m es el numero de ejemplos, y n es el numero de\n",
        "        caracteristicas (incluida la intercepcion).\n",
        "\n",
        "    y : array_like\n",
        "        El conjunto de etiquetas. Un vector con la forma (shape) (m, ). m es el numero de ejemplos\n",
        "\n",
        "    lambda_ : float\n",
        "        Parametro de regularización.\n",
        "\n",
        "    Devuelve\n",
        "    -------\n",
        "    J : float\n",
        "        El valor calculado para la funcion de costo regularizada.\n",
        "\n",
        "    grad : array_like\n",
        "        Un vector de la forma (shape) (n, ) que es el gradiente de la\n",
        "        función de costo con respecto a theta, en los valores actuales de theta..\n",
        "    \"\"\"\n",
        "\n",
        "    # Inicializa algunos valores utiles\n",
        "    m = y.size\n",
        "\n",
        "    # convierte las etiquetas a valores enteros si son boleanos\n",
        "    if y.dtype == bool:\n",
        "        y = y.astype(int)\n",
        "\n",
        "    J = 0\n",
        "    grad = np.zeros(theta.shape)\n",
        "\n",
        "    h = sigmoid(X.dot(theta.T))\n",
        "\n",
        "    temp = theta\n",
        "    temp[0] = 0\n",
        "\n",
        "#     J = (1 / m) * np.sum(-y.dot(np.log(h)) - (1 - y).dot(np.log(1 - h)))\n",
        "    J = (1 / m) * np.sum(-y.dot(np.log(h)) - (1 - y).dot(np.log(1 - h))) + (lambda_ / (2 * m)) * np.sum(np.square(temp))\n",
        "    #\n",
        "    grad = (1 / m) * (h - y).dot(X)\n",
        "#     theta = theta - (alpha / m) * (h - y).dot(X)\n",
        "    grad = grad + (lambda_ / m) * temp\n",
        "\n",
        "    return J, grad\n",
        "#    return J, theta"
      ],
      "metadata": {
        "id": "r7JpFLHhA2uA"
      },
      "execution_count": 90,
      "outputs": []
    },
    {
      "cell_type": "markdown",
      "source": [
        "572 tethas"
      ],
      "metadata": {
        "id": "TH_usSVswOcl"
      }
    },
    {
      "cell_type": "code",
      "source": [
        "def oneVsAll(X, y, num_labels, lambda_):\n",
        "    \"\"\"\n",
        "    Trains num_labels logistic regression classifiers and returns\n",
        "    each of these classifiers in a matrix all_theta, where the i-th\n",
        "    row of all_theta corresponds to the classifier for label i.\n",
        "\n",
        "    Parameters\n",
        "    ----------\n",
        "    X : array_like\n",
        "        The input dataset of shape (m x n). m is the number of\n",
        "        data points, and n is the number of features. Note that we\n",
        "        do not assume that the intercept term (or bias) is in X, however\n",
        "        we provide the code below to add the bias term to X.\n",
        "\n",
        "    y : array_like\n",
        "        The data labels. A vector of shape (m, ).\n",
        "\n",
        "    num_labels : int\n",
        "        Number of possible labels.\n",
        "\n",
        "    lambda_ : float\n",
        "        The logistic regularization parameter.\n",
        "\n",
        "    Returns\n",
        "    -------\n",
        "    all_theta : array_like\n",
        "        The trained parameters for logistic regression for each class.\n",
        "        This is a matrix of shape (K x n+1) where K is number of classes\n",
        "        (ie. `numlabels`) and n is number of features without the bias.\n",
        "    \"\"\"\n",
        "    # algunas variables utiles\n",
        "    m, n = X.shape\n",
        "\n",
        "    all_theta = np.zeros((num_labels, n + 1))\n",
        "\n",
        "    # Agrega unos a la matriz X\n",
        "    X = np.concatenate([np.ones((m, 1)), X], axis=1)\n",
        "\n",
        "    for c in np.arange(num_labels):\n",
        "        initial_theta = np.zeros(n + 1)\n",
        "        options = {'maxiter': 50}\n",
        "        res = optimize.minimize(lrCostFunction,\n",
        "                                initial_theta,\n",
        "                                (X, (y == c), lambda_),\n",
        "                                jac=True,\n",
        "                                method='CG',\n",
        "                                options=options)\n",
        "\n",
        "        all_theta[c] = res.x\n",
        "\n",
        "    return all_theta"
      ],
      "metadata": {
        "id": "BG2YQw4UA4X4"
      },
      "execution_count": 91,
      "outputs": []
    },
    {
      "cell_type": "code",
      "source": [
        "print(X.shape)\n",
        "print(y.shape)\n",
        "print(X_test.shape)\n",
        "print(Y_test.shape)"
      ],
      "metadata": {
        "colab": {
          "base_uri": "https://localhost:8080/"
        },
        "id": "MR2hDAoRxFho",
        "outputId": "a6de833f-e718-4872-8b19-6113e2eb0674"
      },
      "execution_count": 92,
      "outputs": [
        {
          "output_type": "stream",
          "name": "stdout",
          "text": [
            "(20780, 23)\n",
            "(20780,)\n",
            "(5112, 23)\n",
            "(5112,)\n"
          ]
        }
      ]
    },
    {
      "cell_type": "code",
      "source": [
        "lambda_ = 0.1\n",
        "all_theta = oneVsAll(X, y, num_labels, lambda_)\n",
        "print(all_theta.shape)"
      ],
      "metadata": {
        "id": "xiorH7JEA5vA",
        "colab": {
          "base_uri": "https://localhost:8080/"
        },
        "outputId": "5a45fd08-58ac-4739-f5b0-7a461b7213bd"
      },
      "execution_count": 93,
      "outputs": [
        {
          "output_type": "stream",
          "name": "stdout",
          "text": [
            "(3, 24)\n"
          ]
        }
      ]
    },
    {
      "cell_type": "code",
      "source": [
        "print(all_theta)"
      ],
      "metadata": {
        "colab": {
          "base_uri": "https://localhost:8080/"
        },
        "id": "fBTvB6KHy9S0",
        "outputId": "851ad6c3-98cb-41b8-8940-831d32e8a78f"
      },
      "execution_count": 94,
      "outputs": [
        {
          "output_type": "stream",
          "name": "stdout",
          "text": [
            "[[-1.24380805e+01  8.02973349e-13 -7.12419144e-14 -1.62290569e-12\n",
            "   1.48954533e-12 -3.07857279e-12  3.05937029e-12  4.18365578e-12\n",
            "   1.02716897e-12  2.86927954e-12  7.28706423e-13  5.51397286e-12\n",
            "   5.92915092e-12  6.59372087e-12  7.97060259e-12  5.27108871e-12\n",
            "   4.45635416e-12  4.81051832e-12  3.44766819e-12  4.84988091e-12\n",
            "   6.56056663e-12 -7.17675800e-13 -8.00860710e-13  6.77047999e-12]\n",
            " [-4.42239360e-02  2.14551581e-01  3.83343831e-02 -2.43670825e-01\n",
            "   1.60468570e-01 -1.59140283e+00  1.08053835e+00 -8.31505416e-01\n",
            "  -5.45186632e-03  2.66071218e-01  6.88359072e-02  7.29903887e-02\n",
            "   5.84822022e-01  2.60566359e-01 -2.96267347e-01  2.86222797e-01\n",
            "   1.32097154e-01  2.90071319e-01  1.94284499e-01  2.28883602e-01\n",
            "  -5.52166060e-02 -5.43429260e-02  2.80590344e-02  3.79115150e-01]\n",
            " [-5.11146271e-01 -1.56304678e-01 -1.78041411e-03  4.09791203e-01\n",
            "  -9.18924988e-02  1.14091215e+00 -7.69924169e-01  5.99379684e-01\n",
            "   3.98464946e-02 -2.13406695e-01 -4.93509454e-02 -4.94174322e-02\n",
            "  -3.79922862e-01 -1.47086735e-01  2.45467348e-01 -1.71501303e-01\n",
            "  -1.15822547e-01 -1.72047767e-01 -1.19829051e-01 -1.80261716e-01\n",
            "  -3.17998964e-02  5.45014473e-02 -2.46136905e-02 -3.29931540e-01]]\n"
          ]
        }
      ]
    },
    {
      "cell_type": "markdown",
      "source": [
        "predicciones en un problema de clasificación multiclase\n",
        "realiza el producto punto entre X y la transpuesta de all_theta. all_theta tiene forma (num_labels, n + 1), donde n es el número de características en X más 1 para el sesgo"
      ],
      "metadata": {
        "id": "XP8C9CERyRfw"
      }
    },
    {
      "cell_type": "code",
      "source": [
        "def predictOneVsAll(all_theta, X):\n",
        "\n",
        "    m = X.shape[0];\n",
        "    num_labels = all_theta.shape[0]\n",
        "\n",
        "    p = np.zeros(m)\n",
        "\n",
        "    # Add ones to the X data matrix\n",
        "    X = np.concatenate([np.ones((m, 1)), X], axis=1)\n",
        "    p = np.argmax(sigmoid(X.dot(all_theta.T)), axis = 1)\n",
        "\n",
        "    return p"
      ],
      "metadata": {
        "id": "LdP04rvaA7F4"
      },
      "execution_count": 95,
      "outputs": []
    },
    {
      "cell_type": "code",
      "source": [
        "print(X.shape)\n",
        "pred = predictOneVsAll(all_theta, X)\n",
        "print(X.shape)\n",
        "print('Precision del conjuto de entrenamiento: {:.2f}%'.format(np.mean(pred == y) * 100))\n",
        "XPrueba = X[10:150, :].copy()\n",
        "print(XPrueba.shape)\n",
        "\n",
        "XPrueba = np.concatenate([np.ones((140, 1)), XPrueba], axis=1)\n",
        "print(XPrueba.shape)\n",
        "p = np.argmax(sigmoid(XPrueba.dot(all_theta.T)), axis = 1)\n",
        "print(p)\n",
        "\n",
        "print(y[10:150])"
      ],
      "metadata": {
        "id": "Z8mwVfMMA8hA",
        "colab": {
          "base_uri": "https://localhost:8080/"
        },
        "outputId": "badc7665-e433-4d44-98ca-954a82b6569c"
      },
      "execution_count": 96,
      "outputs": [
        {
          "output_type": "stream",
          "name": "stdout",
          "text": [
            "(20780, 23)\n",
            "(20780, 23)\n",
            "Precision del conjuto de entrenamiento: 77.86%\n",
            "(140, 23)\n",
            "(140, 24)\n",
            "[1 1 1 1 2 1 2 2 1 1 2 2 1 2 2 1 2 1 2 2 1 2 2 2 2 1 1 1 2 2 2 2 1 2 2 1 2\n",
            " 1 2 2 1 1 1 1 2 1 2 2 2 1 1 2 2 1 2 1 2 1 1 2 1 2 1 2 2 1 2 2 2 1 2 1 1 2\n",
            " 2 2 1 2 1 1 2 1 1 1 2 2 1 2 1 2 2 2 2 1 1 1 2 2 1 1 2 1 2 2 2 2 1 2 1 1 1\n",
            " 2 2 2 2 2 2 1 1 2 2 2 2 1 2 1 1 2 1 1 1 2 1 1 1 1 1 2 2 1]\n",
            "[1. 1. 1. 1. 2. 2. 3. 2. 1. 1. 2. 2. 1. 2. 2. 1. 2. 1. 2. 1. 2. 2. 2. 2.\n",
            " 2. 1. 1. 1. 2. 1. 2. 1. 1. 3. 2. 1. 2. 1. 2. 3. 1. 2. 2. 1. 1. 1. 2. 2.\n",
            " 2. 1. 2. 2. 2. 1. 3. 1. 2. 1. 1. 1. 1. 1. 1. 3. 2. 2. 2. 3. 2. 1. 2. 1.\n",
            " 1. 2. 1. 2. 1. 2. 2. 1. 2. 1. 2. 1. 3. 2. 1. 2. 1. 2. 2. 2. 2. 1. 1. 1.\n",
            " 2. 2. 1. 2. 2. 1. 2. 3. 2. 2. 1. 2. 1. 3. 1. 2. 1. 2. 2. 2. 1. 1. 1. 2.\n",
            " 3. 2. 1. 1. 3. 1. 1. 2. 1. 2. 1. 2. 1. 1. 1. 2. 1. 2. 2. 1.]\n"
          ]
        }
      ]
    },
    {
      "cell_type": "markdown",
      "source": [
        "Para la grafica"
      ],
      "metadata": {
        "id": "aEqog_vlyx9h"
      }
    },
    {
      "cell_type": "code",
      "source": [
        "def plot_cost_function(X, y, theta, lambda_):\n",
        "    \"\"\"\n",
        "    Calcula el costo de usar theta como parámetro para la regresión logística regularizada.\n",
        "    \"\"\"\n",
        "    J, _ = lrCostFunction(theta, X, y, lambda_)\n",
        "    return J\n"
      ],
      "metadata": {
        "id": "yk6cd2h8Nmmk"
      },
      "execution_count": 97,
      "outputs": []
    },
    {
      "cell_type": "code",
      "source": [
        "theta_for_class = all_theta[0]\n",
        "print(\"Tamaño de theta_for_class:\", theta_for_class.shape)\n",
        "print(\"Tamaño de X_norm:\", X_norm.shape)\n",
        "print(\"Número de ejemplos:\", y.shape[0])\n",
        "print(\"Número de características:\", X_norm.shape[1])\n",
        "cost_values = []\n",
        "theta_values = np.linspace(-1, 1, 100)\n",
        "for t in theta_values:\n",
        "    theta_test = np.copy(theta_for_class)\n",
        "    theta_test[1] = t\n",
        "    X_with_intercept = np.concatenate([np.ones((X_norm.shape[0], 1)), X_norm], axis=1)\n",
        "    cost = plot_cost_function(X_with_intercept, y, theta_test, lambda_)\n",
        "    cost_values.append(cost)\n",
        "\n",
        "plt.plot(theta_values, cost_values, 'b-')\n",
        "plt.xlabel('Valor de theta')\n",
        "plt.ylabel('Costo')\n",
        "plt.title('Función de Costo para la Clase 0')\n",
        "plt.show()"
      ],
      "metadata": {
        "colab": {
          "base_uri": "https://localhost:8080/",
          "height": 541
        },
        "id": "n8ky3fz1MODn",
        "outputId": "eea22238-03e5-47cd-e1da-453119262019"
      },
      "execution_count": 98,
      "outputs": [
        {
          "output_type": "stream",
          "name": "stdout",
          "text": [
            "Tamaño de theta_for_class: (24,)\n",
            "Tamaño de X_norm: (20780, 23)\n",
            "Número de ejemplos: 20780\n",
            "Número de características: 23\n"
          ]
        },
        {
          "output_type": "display_data",
          "data": {
            "text/plain": [
              "<Figure size 640x480 with 1 Axes>"
            ],
            "image/png": "[encoded data removed]"
          },
          "metadata": {}
        }
      ]
    },
    {
      "cell_type": "code",
      "source": [
        "theta_for_class = all_theta[1]\n",
        "print(\"Tamaño de theta_for_class:\", theta_for_class.shape)\n",
        "print(\"Tamaño de X_norm:\", X_norm.shape)\n",
        "print(\"Número de ejemplos:\", y.shape[0])\n",
        "print(\"Número de características:\", X_norm.shape[1])\n",
        "\n",
        "cost_values = []\n",
        "theta_values = np.linspace(-1, 1, 100)\n",
        "\n",
        "for t in theta_values:\n",
        "    theta_test = np.copy(theta_for_class)\n",
        "    theta_test[1] = t\n",
        "    X_with_intercept = np.concatenate([np.ones((X_norm.shape[0], 1)), X_norm], axis=1)\n",
        "    cost = plot_cost_function(X_with_intercept, y, theta_test, lambda_)\n",
        "    cost_values.append(cost)\n",
        "\n",
        "plt.plot(theta_values, cost_values, 'b-')\n",
        "plt.xlabel('Valor de theta')\n",
        "plt.ylabel('Costo')\n",
        "plt.title('Función de Costo para la Clase 1')\n",
        "plt.show()"
      ],
      "metadata": {
        "colab": {
          "base_uri": "https://localhost:8080/",
          "height": 541
        },
        "id": "BLx2e83jOsuG",
        "outputId": "996ab6e2-d9e1-414e-e287-48b9878f8e1f"
      },
      "execution_count": 99,
      "outputs": [
        {
          "output_type": "stream",
          "name": "stdout",
          "text": [
            "Tamaño de theta_for_class: (24,)\n",
            "Tamaño de X_norm: (20780, 23)\n",
            "Número de ejemplos: 20780\n",
            "Número de características: 23\n"
          ]
        },
        {
          "output_type": "display_data",
          "data": {
            "text/plain": [
              "<Figure size 640x480 with 1 Axes>"
            ],
            "image/png": "[encoded data removed]"
          },
          "metadata": {}
        }
      ]
    },
    {
      "cell_type": "code",
      "source": [
        "theta_for_class = all_theta[2]\n",
        "print(\"Tamaño de theta_for_class:\", theta_for_class.shape)\n",
        "print(\"Tamaño de X_norm:\", X_norm.shape)\n",
        "print(\"Número de ejemplos:\", y.shape[0])\n",
        "print(\"Número de características:\", X_norm.shape[1])\n",
        "cost_values = []\n",
        "theta_values = np.linspace(-1, 1, 100)\n",
        "for t in theta_values:\n",
        "    theta_test = np.copy(theta_for_class)\n",
        "    theta_test[1] = t\n",
        "    X_with_intercept = np.concatenate([np.ones((X_norm.shape[0], 1)), X_norm], axis=1)\n",
        "    cost = plot_cost_function(X_with_intercept, y, theta_test, lambda_)\n",
        "    cost_values.append(cost)\n",
        "plt.plot(theta_values, cost_values, 'b-')\n",
        "plt.xlabel('Valor de theta')\n",
        "plt.ylabel('Costo')\n",
        "plt.title('Función de Costo para la Clase 2')\n",
        "plt.show()"
      ],
      "metadata": {
        "colab": {
          "base_uri": "https://localhost:8080/",
          "height": 541
        },
        "id": "R9IcUiCcO04e",
        "outputId": "70250338-a99b-428a-bea9-a167cbe19166"
      },
      "execution_count": 100,
      "outputs": [
        {
          "output_type": "stream",
          "name": "stdout",
          "text": [
            "Tamaño de theta_for_class: (24,)\n",
            "Tamaño de X_norm: (20780, 23)\n",
            "Número de ejemplos: 20780\n",
            "Número de características: 23\n"
          ]
        },
        {
          "output_type": "display_data",
          "data": {
            "text/plain": [
              "<Figure size 640x480 with 1 Axes>"
            ],
            "image/png": "[encoded data removed]"
          },
          "metadata": {}
        }
      ]
    },
    {
      "cell_type": "markdown",
      "source": [
        "Mostrar los resultados"
      ],
      "metadata": {
        "id": "K7xcgyVAy6pQ"
      }
    },
    {
      "cell_type": "code",
      "source": [
        "print(X.shape)\n",
        "pred = predictOneVsAll(all_theta, X)\n",
        "print('Precision del conjunto de entrenamiento: {:.2f}%'.format(np.mean(pred == y) * 100))\n",
        "XPrueba = X_test_norm[10:150, :].copy()\n",
        "print(XPrueba.shape)\n",
        "XPrueba = np.concatenate([np.ones((140, 1)), XPrueba], axis=1)\n",
        "p = np.argmax(sigmoid(XPrueba.dot(all_theta.T)), axis=1)\n",
        "\n",
        "# Imprimir la clase predicha y la clase real\n",
        "correctas = 0\n",
        "total = len(Y_test[10:200])\n",
        "for predicha, real in zip(p, y[10:200]):\n",
        "    if predicha == real:\n",
        "        correctas += 1\n",
        "    print(\"Clase predicha para el pasajero: {}, Clase real: {}\".format(predicha, real))\n",
        "\n",
        "# Calcular y mostrar la precisión\n",
        "precision = correctas / total\n",
        "print(\"Correctas: {}/{}\".format(correctas, total))\n"
      ],
      "metadata": {
        "id": "M2oZeyvhBGAQ",
        "colab": {
          "base_uri": "https://localhost:8080/"
        },
        "outputId": "ba9c0559-3f79-44d4-b163-a6a4a617a2a6"
      },
      "execution_count": 101,
      "outputs": [
        {
          "output_type": "stream",
          "name": "stdout",
          "text": [
            "(20780, 23)\n",
            "Precision del conjunto de entrenamiento: 77.86%\n",
            "(140, 23)\n",
            "Clase predicha para el pasajero: 2, Clase real: 1.0\n",
            "Clase predicha para el pasajero: 1, Clase real: 1.0\n",
            "Clase predicha para el pasajero: 1, Clase real: 1.0\n",
            "Clase predicha para el pasajero: 2, Clase real: 1.0\n",
            "Clase predicha para el pasajero: 2, Clase real: 2.0\n",
            "Clase predicha para el pasajero: 1, Clase real: 2.0\n",
            "Clase predicha para el pasajero: 1, Clase real: 3.0\n",
            "Clase predicha para el pasajero: 1, Clase real: 2.0\n",
            "Clase predicha para el pasajero: 1, Clase real: 1.0\n",
            "Clase predicha para el pasajero: 1, Clase real: 1.0\n",
            "Clase predicha para el pasajero: 1, Clase real: 2.0\n",
            "Clase predicha para el pasajero: 1, Clase real: 2.0\n",
            "Clase predicha para el pasajero: 2, Clase real: 1.0\n",
            "Clase predicha para el pasajero: 1, Clase real: 2.0\n",
            "Clase predicha para el pasajero: 1, Clase real: 2.0\n",
            "Clase predicha para el pasajero: 2, Clase real: 1.0\n",
            "Clase predicha para el pasajero: 2, Clase real: 2.0\n",
            "Clase predicha para el pasajero: 2, Clase real: 1.0\n",
            "Clase predicha para el pasajero: 2, Clase real: 2.0\n",
            "Clase predicha para el pasajero: 1, Clase real: 1.0\n",
            "Clase predicha para el pasajero: 2, Clase real: 2.0\n",
            "Clase predicha para el pasajero: 1, Clase real: 2.0\n",
            "Clase predicha para el pasajero: 1, Clase real: 2.0\n",
            "Clase predicha para el pasajero: 1, Clase real: 2.0\n",
            "Clase predicha para el pasajero: 2, Clase real: 2.0\n",
            "Clase predicha para el pasajero: 1, Clase real: 1.0\n",
            "Clase predicha para el pasajero: 2, Clase real: 1.0\n",
            "Clase predicha para el pasajero: 1, Clase real: 1.0\n",
            "Clase predicha para el pasajero: 1, Clase real: 2.0\n",
            "Clase predicha para el pasajero: 2, Clase real: 1.0\n",
            "Clase predicha para el pasajero: 1, Clase real: 2.0\n",
            "Clase predicha para el pasajero: 1, Clase real: 1.0\n",
            "Clase predicha para el pasajero: 2, Clase real: 1.0\n",
            "Clase predicha para el pasajero: 1, Clase real: 3.0\n",
            "Clase predicha para el pasajero: 1, Clase real: 2.0\n",
            "Clase predicha para el pasajero: 1, Clase real: 1.0\n",
            "Clase predicha para el pasajero: 1, Clase real: 2.0\n",
            "Clase predicha para el pasajero: 1, Clase real: 1.0\n",
            "Clase predicha para el pasajero: 1, Clase real: 2.0\n",
            "Clase predicha para el pasajero: 1, Clase real: 3.0\n",
            "Clase predicha para el pasajero: 1, Clase real: 1.0\n",
            "Clase predicha para el pasajero: 1, Clase real: 2.0\n",
            "Clase predicha para el pasajero: 1, Clase real: 2.0\n",
            "Clase predicha para el pasajero: 1, Clase real: 1.0\n",
            "Clase predicha para el pasajero: 1, Clase real: 1.0\n",
            "Clase predicha para el pasajero: 1, Clase real: 1.0\n",
            "Clase predicha para el pasajero: 2, Clase real: 2.0\n",
            "Clase predicha para el pasajero: 2, Clase real: 2.0\n",
            "Clase predicha para el pasajero: 1, Clase real: 2.0\n",
            "Clase predicha para el pasajero: 2, Clase real: 1.0\n",
            "Clase predicha para el pasajero: 1, Clase real: 2.0\n",
            "Clase predicha para el pasajero: 2, Clase real: 2.0\n",
            "Clase predicha para el pasajero: 2, Clase real: 2.0\n",
            "Clase predicha para el pasajero: 2, Clase real: 1.0\n",
            "Clase predicha para el pasajero: 2, Clase real: 3.0\n",
            "Clase predicha para el pasajero: 1, Clase real: 1.0\n",
            "Clase predicha para el pasajero: 2, Clase real: 2.0\n",
            "Clase predicha para el pasajero: 2, Clase real: 1.0\n",
            "Clase predicha para el pasajero: 2, Clase real: 1.0\n",
            "Clase predicha para el pasajero: 2, Clase real: 1.0\n",
            "Clase predicha para el pasajero: 2, Clase real: 1.0\n",
            "Clase predicha para el pasajero: 1, Clase real: 1.0\n",
            "Clase predicha para el pasajero: 1, Clase real: 1.0\n",
            "Clase predicha para el pasajero: 2, Clase real: 3.0\n",
            "Clase predicha para el pasajero: 1, Clase real: 2.0\n",
            "Clase predicha para el pasajero: 2, Clase real: 2.0\n",
            "Clase predicha para el pasajero: 1, Clase real: 2.0\n",
            "Clase predicha para el pasajero: 2, Clase real: 3.0\n",
            "Clase predicha para el pasajero: 2, Clase real: 2.0\n",
            "Clase predicha para el pasajero: 1, Clase real: 1.0\n",
            "Clase predicha para el pasajero: 2, Clase real: 2.0\n",
            "Clase predicha para el pasajero: 1, Clase real: 1.0\n",
            "Clase predicha para el pasajero: 1, Clase real: 1.0\n",
            "Clase predicha para el pasajero: 2, Clase real: 2.0\n",
            "Clase predicha para el pasajero: 2, Clase real: 1.0\n",
            "Clase predicha para el pasajero: 2, Clase real: 2.0\n",
            "Clase predicha para el pasajero: 2, Clase real: 1.0\n",
            "Clase predicha para el pasajero: 2, Clase real: 2.0\n",
            "Clase predicha para el pasajero: 1, Clase real: 2.0\n",
            "Clase predicha para el pasajero: 1, Clase real: 1.0\n",
            "Clase predicha para el pasajero: 2, Clase real: 2.0\n",
            "Clase predicha para el pasajero: 2, Clase real: 1.0\n",
            "Clase predicha para el pasajero: 2, Clase real: 2.0\n",
            "Clase predicha para el pasajero: 1, Clase real: 1.0\n",
            "Clase predicha para el pasajero: 2, Clase real: 3.0\n",
            "Clase predicha para el pasajero: 2, Clase real: 2.0\n",
            "Clase predicha para el pasajero: 1, Clase real: 1.0\n",
            "Clase predicha para el pasajero: 2, Clase real: 2.0\n",
            "Clase predicha para el pasajero: 1, Clase real: 1.0\n",
            "Clase predicha para el pasajero: 1, Clase real: 2.0\n",
            "Clase predicha para el pasajero: 2, Clase real: 2.0\n",
            "Clase predicha para el pasajero: 1, Clase real: 2.0\n",
            "Clase predicha para el pasajero: 1, Clase real: 2.0\n",
            "Clase predicha para el pasajero: 2, Clase real: 1.0\n",
            "Clase predicha para el pasajero: 1, Clase real: 1.0\n",
            "Clase predicha para el pasajero: 1, Clase real: 1.0\n",
            "Clase predicha para el pasajero: 2, Clase real: 2.0\n",
            "Clase predicha para el pasajero: 1, Clase real: 2.0\n",
            "Clase predicha para el pasajero: 2, Clase real: 1.0\n",
            "Clase predicha para el pasajero: 2, Clase real: 2.0\n",
            "Clase predicha para el pasajero: 2, Clase real: 2.0\n",
            "Clase predicha para el pasajero: 1, Clase real: 1.0\n",
            "Clase predicha para el pasajero: 2, Clase real: 2.0\n",
            "Clase predicha para el pasajero: 2, Clase real: 3.0\n",
            "Clase predicha para el pasajero: 1, Clase real: 2.0\n",
            "Clase predicha para el pasajero: 2, Clase real: 2.0\n",
            "Clase predicha para el pasajero: 2, Clase real: 1.0\n",
            "Clase predicha para el pasajero: 2, Clase real: 2.0\n",
            "Clase predicha para el pasajero: 2, Clase real: 1.0\n",
            "Clase predicha para el pasajero: 1, Clase real: 3.0\n",
            "Clase predicha para el pasajero: 1, Clase real: 1.0\n",
            "Clase predicha para el pasajero: 2, Clase real: 2.0\n",
            "Clase predicha para el pasajero: 2, Clase real: 1.0\n",
            "Clase predicha para el pasajero: 1, Clase real: 2.0\n",
            "Clase predicha para el pasajero: 2, Clase real: 2.0\n",
            "Clase predicha para el pasajero: 2, Clase real: 2.0\n",
            "Clase predicha para el pasajero: 2, Clase real: 1.0\n",
            "Clase predicha para el pasajero: 1, Clase real: 1.0\n",
            "Clase predicha para el pasajero: 1, Clase real: 1.0\n",
            "Clase predicha para el pasajero: 2, Clase real: 2.0\n",
            "Clase predicha para el pasajero: 1, Clase real: 3.0\n",
            "Clase predicha para el pasajero: 1, Clase real: 2.0\n",
            "Clase predicha para el pasajero: 2, Clase real: 1.0\n",
            "Clase predicha para el pasajero: 1, Clase real: 1.0\n",
            "Clase predicha para el pasajero: 2, Clase real: 3.0\n",
            "Clase predicha para el pasajero: 1, Clase real: 1.0\n",
            "Clase predicha para el pasajero: 2, Clase real: 1.0\n",
            "Clase predicha para el pasajero: 2, Clase real: 2.0\n",
            "Clase predicha para el pasajero: 1, Clase real: 1.0\n",
            "Clase predicha para el pasajero: 1, Clase real: 2.0\n",
            "Clase predicha para el pasajero: 2, Clase real: 1.0\n",
            "Clase predicha para el pasajero: 2, Clase real: 2.0\n",
            "Clase predicha para el pasajero: 2, Clase real: 1.0\n",
            "Clase predicha para el pasajero: 1, Clase real: 1.0\n",
            "Clase predicha para el pasajero: 2, Clase real: 1.0\n",
            "Clase predicha para el pasajero: 1, Clase real: 2.0\n",
            "Clase predicha para el pasajero: 1, Clase real: 1.0\n",
            "Clase predicha para el pasajero: 1, Clase real: 2.0\n",
            "Clase predicha para el pasajero: 2, Clase real: 2.0\n",
            "Clase predicha para el pasajero: 1, Clase real: 1.0\n",
            "Correctas: 70/190\n"
          ]
        }
      ]
    }
  ]
}