{
 "cells": [
  {
   "cell_type": "markdown",
   "metadata": {},
   "source": [
    "#Limpiar el dataset"
   ]
  },
  {
   "cell_type": "code",
   "execution_count": null,
   "metadata": {},
   "outputs": [],
   "source": [
    "#codigo para limpiar variables\n",
    "#para sacar las columnas es necesario elegir las columnas que usaremos \n",
    "\"columnas_indices_X = ['MaxT', 'MinT', 'RH1(%)', 'RF(mm)']  # Nombres de las columnas relevantes\"\n",
    "\"indice_y = 'Pest Value'  # Nombre de la columna de 'Pest Value'\"\n",
    "#convertir numeros a binarios \n",
    "\"y_binary = (y > 0).astype(int)\"\n"
   ]
  }
 ],
 "metadata": {
  "language_info": {
   "name": "python"
  }
 },
 "nbformat": 4,
 "nbformat_minor": 2
}
